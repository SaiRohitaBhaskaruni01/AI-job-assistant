{
 "cells": [
  {
   "cell_type": "code",
   "execution_count": 1,
   "id": "c61f771c",
   "metadata": {},
   "outputs": [],
   "source": [
    "import pandas as pd\n",
    "df=pd.read_csv(\"/Users/sairohitabhaskaruni/Documents/USC/Coursework/projects/new_job_assistant/data/jobs_minimal.csv\")"
   ]
  },
  {
   "cell_type": "code",
   "execution_count": 2,
   "id": "7c57a693",
   "metadata": {},
   "outputs": [
    {
     "data": {
      "text/plain": [
       "Index(['id', 'title', 'company', 'location', 'description',\n",
       "       'title_normalized'],\n",
       "      dtype='object')"
      ]
     },
     "execution_count": 2,
     "metadata": {},
     "output_type": "execute_result"
    }
   ],
   "source": [
    "df.columns"
   ]
  },
  {
   "cell_type": "code",
   "execution_count": null,
   "id": "b95e5afa",
   "metadata": {},
   "outputs": [],
   "source": []
  },
  {
   "cell_type": "code",
   "execution_count": null,
   "id": "b6a2cfb6",
   "metadata": {},
   "outputs": [
    {
     "ename": "ModuleNotFoundError",
     "evalue": "No module named 'app.responder'",
     "output_type": "error",
     "traceback": [
      "\u001b[0;31m---------------------------------------------------------------------------\u001b[0m",
      "\u001b[0;31mModuleNotFoundError\u001b[0m                       Traceback (most recent call last)",
      "Cell \u001b[0;32mIn[3], line 1\u001b[0m\n\u001b[0;32m----> 1\u001b[0m \u001b[38;5;28;01mfrom\u001b[39;00m\u001b[38;5;250m \u001b[39m\u001b[38;5;21;01mapp\u001b[39;00m\u001b[38;5;21;01m.\u001b[39;00m\u001b[38;5;21;01mresponder\u001b[39;00m\u001b[38;5;250m \u001b[39m\u001b[38;5;28;01mimport\u001b[39;00m rerank_jobs_with_llm\n\u001b[1;32m      2\u001b[0m \u001b[38;5;28;01mfrom\u001b[39;00m\u001b[38;5;250m \u001b[39m\u001b[38;5;21;01mapp\u001b[39;00m\u001b[38;5;21;01m.\u001b[39;00m\u001b[38;5;21;01mjob_retriever\u001b[39;00m\u001b[38;5;250m \u001b[39m\u001b[38;5;28;01mimport\u001b[39;00m JobRetriever\n\u001b[1;32m      4\u001b[0m \u001b[38;5;66;03m# Assume intent comes from CLI or parser\u001b[39;00m\n",
      "\u001b[0;31mModuleNotFoundError\u001b[0m: No module named 'app.responder'"
     ]
    }
   ],
   "source": [
    "from app.response_chain import rerank_jobs_with_llm\n",
    "from app.job_retriever import JobRetriever\n",
    "\n",
    "# Assume intent comes from CLI or parser\n",
    "intent = {\n",
    "    \"role\": \"Data Analyst\",\n",
    "    \"location\": \"New York\",\n",
    "    \"salary\": \"80K\",\n",
    "    \"domain\": None,\n",
    "    \"remote\": \"no\"\n",
    "}\n",
    "\n",
    "retriever = JobRetriever()\n",
    "top30 = retriever.retrieve_jobs(intent, top_k=30)\n",
    "filtered = retriever.filter_by_location(top30, intent[\"location\"])\n",
    "\n",
    "top10 = rerank_jobs_with_llm(intent, filtered)\n",
    "\n",
    "# Pretty print\n",
    "import json\n",
    "print(json.dumps(top10, indent=2))\n"
   ]
  },
  {
   "cell_type": "code",
   "execution_count": null,
   "id": "b4e99f73",
   "metadata": {},
   "outputs": [],
   "source": []
  }
 ],
 "metadata": {
  "kernelspec": {
   "display_name": "ai-env",
   "language": "python",
   "name": "python3"
  },
  "language_info": {
   "codemirror_mode": {
    "name": "ipython",
    "version": 3
   },
   "file_extension": ".py",
   "mimetype": "text/x-python",
   "name": "python",
   "nbconvert_exporter": "python",
   "pygments_lexer": "ipython3",
   "version": "3.10.18"
  }
 },
 "nbformat": 4,
 "nbformat_minor": 5
}
